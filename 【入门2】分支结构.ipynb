{
 "cells": [
  {
   "cell_type": "markdown",
   "metadata": {},
   "source": [
    "### P2433 【深基1-2】小学数学 N 合一"
   ]
  },
  {
   "cell_type": "code",
   "execution_count": 22,
   "metadata": {},
   "outputs": [
    {
     "name": "stdout",
     "output_type": "stream",
     "text": [
      "31.4159\n",
      "78.5398\n",
      "523.599\n"
     ]
    }
   ],
   "source": [
    "import math\n",
    "\n",
    "a = [\n",
    "    'I love Luogu!',\n",
    "    '6 4',\n",
    "    f'{14//4}\\n{14-14%4}\\n{14%4}',\n",
    "    float(f'{(500/3):.3f}'),\n",
    "    15,\n",
    "    f'{((6*6+9*9)**(1/2)):.4f}',\n",
    "    f'{int(100+10)}\\n{int(100+10-20)}\\n0',\n",
    "    f'{(3.141593*10):.4f}\\n{(3.141593*25):.4f}\\n{(4*3.141593*125/3):.3f}',\n",
    "    f'{(((2*2+1)*2)+1)*2}',\n",
    "    9,\n",
    "    f'{(100/3):.4f}',\n",
    "    f'{ord(\"M\")-ord(\"A\")+1}\\n{chr(64+18)}',\n",
    "    f'{math.floor(((16*16+4000)*3.141593/3)**(1/3))}',\n",
    "    50,\n",
    "]\n",
    "\n",
    "i = int(input())\n",
    "print(a[i-1])"
   ]
  },
  {
   "cell_type": "markdown",
   "metadata": {},
   "source": [
    "### P5709 【深基2.习6】Apples Prologue / 苹果和虫子"
   ]
  },
  {
   "cell_type": "code",
   "execution_count": 24,
   "metadata": {},
   "outputs": [
    {
     "name": "stdout",
     "output_type": "stream",
     "text": [
      "30.0\n"
     ]
    }
   ],
   "source": [
    "[m, t, s] = map(float, input().split(' '))\n",
    "if t == 0:\n",
    "    print(0)\n",
    "else:\n",
    "    c = s / t if s % t == 0 else s // t + 1\n",
    "    print(0 if c>=m else int(m-c))\n"
   ]
  },
  {
   "cell_type": "markdown",
   "metadata": {},
   "source": [
    "### P5710 【深基3.例2】数的性质"
   ]
  },
  {
   "cell_type": "code",
   "execution_count": 10,
   "metadata": {},
   "outputs": [
    {
     "name": "stdout",
     "output_type": "stream",
     "text": [
      "0 1 1 0\n"
     ]
    }
   ],
   "source": [
    "i = int(input())\n",
    "a = 1 if i % 2 == 0 and 4 < i <= 12 else 0\n",
    "b = 1 if i % 2 == 0 or (4 < i <= 12) else 0\n",
    "c = 1 if b and not a else 0\n",
    "d = 1 - b\n",
    "print(a, b, c, d)\n"
   ]
  },
  {
   "cell_type": "markdown",
   "metadata": {},
   "source": [
    "### P5711 【深基3.例3】闰年判断|"
   ]
  },
  {
   "cell_type": "code",
   "execution_count": 14,
   "metadata": {},
   "outputs": [
    {
     "name": "stdout",
     "output_type": "stream",
     "text": [
      "1\n"
     ]
    }
   ],
   "source": [
    "y = int(input())\n",
    "\n",
    "if y % 4 == 0 and y % 100 != 0:\n",
    "    print(1)\n",
    "elif y % 100 == 0 and y% 400 == 0:\n",
    "    print(1)\n",
    "else:\n",
    "    print(0)\n"
   ]
  },
  {
   "cell_type": "markdown",
   "metadata": {},
   "source": [
    "### P5712 【深基3.例4】Apples"
   ]
  },
  {
   "cell_type": "code",
   "execution_count": 15,
   "metadata": {},
   "outputs": [
    {
     "name": "stdout",
     "output_type": "stream",
     "text": [
      "Today, I ate 1 apple\n"
     ]
    }
   ],
   "source": [
    "y = int(input())\n",
    "\n",
    "if y <= 1 :\n",
    "    print(f\"Today, I ate {y} apple.\")\n",
    "else :\n",
    "    print(f\"Today, I ate {y} apples.\")\n"
   ]
  },
  {
   "cell_type": "markdown",
   "metadata": {},
   "source": [
    "### P5713 【深基3.例5】洛谷团队系统"
   ]
  },
  {
   "cell_type": "code",
   "execution_count": 17,
   "metadata": {},
   "outputs": [
    {
     "name": "stdout",
     "output_type": "stream",
     "text": [
      "Logu\n"
     ]
    }
   ],
   "source": [
    "y = int(input())\n",
    "\n",
    "a = 5*y\n",
    "b = 11+3*y\n",
    "print('Local' if a<b else 'Luogu')"
   ]
  },
  {
   "cell_type": "markdown",
   "metadata": {},
   "source": [
    "### P5714 【深基3.例7】肥胖问题"
   ]
  },
  {
   "cell_type": "code",
   "execution_count": 22,
   "metadata": {},
   "outputs": [
    {
     "name": "stdout",
     "output_type": "stream",
     "text": [
      "Overweight\n",
      "32.3496\n"
     ]
    }
   ],
   "source": [
    "[m, h] = map(float, input().split(' '))\n",
    "ibm = m/(h*h)\n",
    "if ibm < 18.5:\n",
    "    print(\"Underweight\")\n",
    "elif ibm < 24:\n",
    "    print(\"Normal\")\n",
    "else :\n",
    "    print(f\"{ibm:.6g}\\nOverweight\")\n"
   ]
  },
  {
   "cell_type": "markdown",
   "metadata": {},
   "source": [
    "### P5715 【深基3.例8】三位数排序"
   ]
  },
  {
   "cell_type": "code",
   "execution_count": 29,
   "metadata": {},
   "outputs": [
    {
     "name": "stdout",
     "output_type": "stream",
     "text": [
      "7 8 10\n"
     ]
    }
   ],
   "source": [
    "x = list(map(int, input().split(' ')))\n",
    "x.sort()\n",
    "print(x[0],x[1],x[2])"
   ]
  },
  {
   "cell_type": "markdown",
   "metadata": {},
   "source": [
    "### P5716 【深基3.例9】月份天数"
   ]
  },
  {
   "cell_type": "code",
   "execution_count": 31,
   "metadata": {},
   "outputs": [
    {
     "name": "stdout",
     "output_type": "stream",
     "text": [
      "29\n"
     ]
    }
   ],
   "source": [
    "def isRun(y:int) -> bool:\n",
    "    if y % 4 == 0 and y % 100 != 0:\n",
    "        return True\n",
    "    elif y % 100 == 0 and y % 400 == 0:\n",
    "        return True\n",
    "    else:\n",
    "        return False\n",
    "\n",
    "big = [1,3,4,5,7,8,10,12]\n",
    "\n",
    "[y, m] = map(float, input().split(' '))\n",
    "  \n",
    "isrun = isRun(y)\n",
    "\n",
    "if m in big:\n",
    "    print(31)   \n",
    "elif m == 2:\n",
    "    print(29 if isrun else 28)\n",
    "else :\n",
    "    print(30)"
   ]
  },
  {
   "cell_type": "markdown",
   "metadata": {},
   "source": [
    "### P1085 [NOIP2004 普及组] 不高兴的津津\n"
   ]
  },
  {
   "cell_type": "code",
   "execution_count": 37,
   "metadata": {},
   "outputs": [
    {
     "name": "stdout",
     "output_type": "stream",
     "text": [
      "3\n"
     ]
    }
   ],
   "source": [
    "p = []\n",
    "for i in range(7):\n",
    "    [a, b] = list(map(float, input().split(' ')))\n",
    "    p.append(max(0,a+b-8))\n",
    "m = 0\n",
    "d = -1\n",
    "for i,t in enumerate(p):\n",
    "    if t > m:\n",
    "        m = t\n",
    "        d = i\n",
    "print(d+1)\n",
    "\n"
   ]
  },
  {
   "cell_type": "markdown",
   "metadata": {},
   "source": [
    "### P1909 [NOIP2016 普及组] 买铅笔"
   ]
  },
  {
   "cell_type": "code",
   "execution_count": 39,
   "metadata": {},
   "outputs": [
    {
     "name": "stdout",
     "output_type": "stream",
     "text": [
      "29\n",
      "2\n",
      "2\n",
      "54.0\n"
     ]
    }
   ],
   "source": [
    "import math\n",
    "n = float(input())\n",
    "res = float('inf')\n",
    "for i in range(3):\n",
    "    [a,b] = list(map(float,input().split(' ')))\n",
    "    res = min(res,math.ceil(n / a) * b)\n",
    "print(int(res),end='')"
   ]
  },
  {
   "cell_type": "markdown",
   "metadata": {},
   "source": [
    "### P4414 [COCI2006-2007#2] ABC"
   ]
  },
  {
   "cell_type": "code",
   "execution_count": 45,
   "metadata": {},
   "outputs": [
    {
     "name": "stdout",
     "output_type": "stream",
     "text": [
      "1 3 5\n"
     ]
    }
   ],
   "source": [
    "l = sorted(list(map(int,input().split(' '))))\n",
    "m = {'A':0,'B': 1, 'C': 2}\n",
    "S = input()\n",
    "[a,b,c] = map(lambda x: l[m[x]],[S[0],S[1],S[2]])\n",
    "print(a,b,c)"
   ]
  },
  {
   "cell_type": "markdown",
   "metadata": {},
   "source": [
    "### P1055 [NOIP2008 普及组] ISBN 号码"
   ]
  },
  {
   "cell_type": "code",
   "execution_count": 52,
   "metadata": {},
   "outputs": [
    {
     "name": "stdout",
     "output_type": "stream",
     "text": [
      "0 0\n",
      "1 6\n",
      "2 7\n",
      "3 0\n",
      "4 8\n",
      "5 2\n",
      "6 1\n",
      "7 6\n",
      "8 2\n",
      "0-670-82162-4\n"
     ]
    }
   ],
   "source": [
    "isbn = input()\n",
    "l = \"\".join(isbn.split('-'))\n",
    "sum = 0\n",
    "for i,n in enumerate(l[0:-1]):\n",
    "    sum+=(i+1)*int(n)\n",
    "y = 'X' if sum % 11 == 10 else str(sum % 11)\n",
    "flag = y == l[-1]\n",
    "if flag:\n",
    "    print('Right')\n",
    "else :\n",
    "    isbn = list(isbn)\n",
    "    isbn[-1] = y\n",
    "    print(\"\".join(isbn))\n"
   ]
  },
  {
   "cell_type": "markdown",
   "metadata": {},
   "source": []
  }
 ],
 "metadata": {
  "kernelspec": {
   "display_name": "Python 3.9.12 ('base')",
   "language": "python",
   "name": "python3"
  },
  "language_info": {
   "codemirror_mode": {
    "name": "ipython",
    "version": 3
   },
   "file_extension": ".py",
   "mimetype": "text/x-python",
   "name": "python",
   "nbconvert_exporter": "python",
   "pygments_lexer": "ipython3",
   "version": "3.9.12"
  },
  "orig_nbformat": 4,
  "vscode": {
   "interpreter": {
    "hash": "8b820dafb18f42d6e5f840dc2f0c20b46468de59ce39267dd760d8325dfbd3ca"
   }
  }
 },
 "nbformat": 4,
 "nbformat_minor": 2
}
