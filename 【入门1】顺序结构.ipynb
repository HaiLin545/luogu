{
 "cells": [
  {
   "cell_type": "markdown",
   "metadata": {},
   "source": [
    "### B2002 Hello,World!"
   ]
  },
  {
   "cell_type": "code",
   "execution_count": 1,
   "metadata": {},
   "outputs": [
    {
     "name": "stdout",
     "output_type": "stream",
     "text": [
      "Hello,World!\n"
     ]
    }
   ],
   "source": [
    "print('Hello,World!')"
   ]
  },
  {
   "cell_type": "markdown",
   "metadata": {},
   "source": [
    "### B2025 输出字符菱形"
   ]
  },
  {
   "cell_type": "code",
   "execution_count": null,
   "metadata": {},
   "outputs": [],
   "source": [
    "print(\"\"\"  *\n",
    " ***\n",
    "*****\n",
    " ***\n",
    "  *\"\"\")"
   ]
  },
  {
   "cell_type": "markdown",
   "metadata": {},
   "source": [
    "### P1001 A+B Problem"
   ]
  },
  {
   "cell_type": "code",
   "execution_count": null,
   "metadata": {},
   "outputs": [],
   "source": [
    "ipt = input().split(' ')\n",
    "[a, b] = ipt\n",
    "print(int(a)+int(b))"
   ]
  },
  {
   "cell_type": "markdown",
   "metadata": {},
   "source": [
    "### B2005 字符三角形"
   ]
  },
  {
   "cell_type": "code",
   "execution_count": 2,
   "metadata": {},
   "outputs": [
    {
     "name": "stdout",
     "output_type": "stream",
     "text": [
      "  1\n",
      " 111\n",
      "11111\n"
     ]
    }
   ],
   "source": [
    "a = input()\n",
    "print('  '+a)\n",
    "print(' '+a+a+a)\n",
    "print(a+a+a+a+a)"
   ]
  },
  {
   "cell_type": "markdown",
   "metadata": {},
   "source": [
    "### P5703 【深基2.例5】苹果采购"
   ]
  },
  {
   "cell_type": "code",
   "execution_count": null,
   "metadata": {},
   "outputs": [],
   "source": [
    "ipt = input().split(' ')\n",
    "print(int(ipt[0])*int(ipt[1]))"
   ]
  },
  {
   "cell_type": "markdown",
   "metadata": {},
   "source": [
    "### P5704 【深基2.例6】字母转换"
   ]
  },
  {
   "cell_type": "code",
   "execution_count": 3,
   "metadata": {},
   "outputs": [
    {
     "name": "stdout",
     "output_type": "stream",
     "text": [
      "Z\n"
     ]
    }
   ],
   "source": [
    "a = input()\n",
    "print(a.upper())"
   ]
  },
  {
   "cell_type": "markdown",
   "metadata": {},
   "source": [
    "### P5705 【深基2.例7】数字反转"
   ]
  },
  {
   "cell_type": "code",
   "execution_count": null,
   "metadata": {},
   "outputs": [],
   "source": [
    "a = input()\n",
    "print(float(a[::-1]))"
   ]
  },
  {
   "cell_type": "markdown",
   "metadata": {},
   "source": [
    "### P5706 【深基2.例8】再分肥宅水"
   ]
  },
  {
   "cell_type": "code",
   "execution_count": null,
   "metadata": {},
   "outputs": [],
   "source": [
    "a = list(map(float, input().split(' ')))\n",
    "\n",
    "print('%.3f' % (a[0]/a[1]))\n",
    "print(a[1]*2)"
   ]
  },
  {
   "cell_type": "markdown",
   "metadata": {},
   "source": [
    "### P5708 【深基2.习2】三角形面积"
   ]
  },
  {
   "cell_type": "code",
   "execution_count": null,
   "metadata": {},
   "outputs": [],
   "source": [
    "from math import sqrt\n",
    "[a, b, c] = map(float, input().split(' '))\n",
    "p = (a+b+c) * 0.5\n",
    "print('%.1f' % sqrt(p*(p-a)*(p-b)*(p-c)))"
   ]
  },
  {
   "cell_type": "markdown",
   "metadata": {},
   "source": [
    "### P5707 【深基 2.例 12】上学迟到\n"
   ]
  },
  {
   "cell_type": "code",
   "execution_count": 15,
   "metadata": {},
   "outputs": [
    {
     "name": "stdout",
     "output_type": "stream",
     "text": [
      "09:10\n"
     ]
    }
   ],
   "source": [
    "import math\n",
    "[s, v] = map(float, input().split(' '))\n",
    "m = math.ceil(s/v)+10\n",
    "h = 7 - m // 60\n",
    "m = 60 - m % 60\n",
    "while h < 0:\n",
    "    h += 24\n",
    "if m == 60 :\n",
    "    h += 1\n",
    "    m  = 0\n",
    "print(f\"{str(h).zfill(2)}:{str(m).zfill(2)}\")\n"
   ]
  },
  {
   "cell_type": "markdown",
   "metadata": {},
   "source": [
    "### B2029 大象喝水"
   ]
  },
  {
   "cell_type": "code",
   "execution_count": 17,
   "metadata": {},
   "outputs": [
    {
     "name": "stdout",
     "output_type": "stream",
     "text": [
      "3\n"
     ]
    }
   ],
   "source": [
    "import math\n",
    "[h, r] = map(float, input().split(' '))\n",
    "v = math.ceil( 20000 / (math.pi * r * r * h))\n",
    "print(v)"
   ]
  },
  {
   "cell_type": "markdown",
   "metadata": {},
   "source": [
    "### P1425 小鱼的游泳时间"
   ]
  },
  {
   "cell_type": "code",
   "execution_count": 18,
   "metadata": {},
   "outputs": [
    {
     "name": "stdout",
     "output_type": "stream",
     "text": [
      "6.0 20.0\n"
     ]
    }
   ],
   "source": [
    "[a,b,c,d] = map(int, input().split(' '))\n",
    "\n",
    "h = c-a\n",
    "m = d-b\n",
    "if m<0:\n",
    "    h-=1\n",
    "    m+=60\n",
    "print(h,m)"
   ]
  },
  {
   "cell_type": "markdown",
   "metadata": {},
   "source": [
    "### P1421 小玉买文具"
   ]
  },
  {
   "cell_type": "code",
   "execution_count": 19,
   "metadata": {},
   "outputs": [
    {
     "name": "stdout",
     "output_type": "stream",
     "text": [
      "5.0\n"
     ]
    }
   ],
   "source": [
    "[a, b] = map(float, input().split(' '))\n",
    "print(int((a*10+b) // 19))"
   ]
  },
  {
   "cell_type": "markdown",
   "metadata": {},
   "source": [
    "### P3954 [NOIP2017 普及组] 成绩"
   ]
  },
  {
   "cell_type": "code",
   "execution_count": 1,
   "metadata": {},
   "outputs": [
    {
     "name": "stdout",
     "output_type": "stream",
     "text": [
      "90\n"
     ]
    }
   ],
   "source": [
    "[a, b, c] = map(float, input().split(' '))\n",
    "print(int(a*0.2+b*0.3+c*0.5))"
   ]
  }
 ],
 "metadata": {
  "kernelspec": {
   "display_name": "Python 3.9.12 ('base')",
   "language": "python",
   "name": "python3"
  },
  "language_info": {
   "codemirror_mode": {
    "name": "ipython",
    "version": 3
   },
   "file_extension": ".py",
   "mimetype": "text/x-python",
   "name": "python",
   "nbconvert_exporter": "python",
   "pygments_lexer": "ipython3",
   "version": "3.9.12"
  },
  "orig_nbformat": 4,
  "vscode": {
   "interpreter": {
    "hash": "8b820dafb18f42d6e5f840dc2f0c20b46468de59ce39267dd760d8325dfbd3ca"
   }
  }
 },
 "nbformat": 4,
 "nbformat_minor": 2
}
