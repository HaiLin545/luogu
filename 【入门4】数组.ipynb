{
 "cells": [
  {
   "cell_type": "markdown",
   "metadata": {},
   "source": [
    "### P2615 [NOIP2015 提高组] 神奇的幻方"
   ]
  },
  {
   "cell_type": "code",
   "execution_count": 21,
   "metadata": {},
   "outputs": [
    {
     "name": "stdout",
     "output_type": "stream",
     "text": [
      "[[0, 0, 0], [0, 0, 0], [0, 0, 0]]\n",
      "8 1 6\n",
      "3 5 7\n",
      "4 9 2\n"
     ]
    }
   ],
   "source": [
    "n = int(input().strip())\n",
    "\n",
    "a = [[0]*n for i in range(n)]\n",
    "\n",
    "def output(a):\n",
    "    for i in range(n):\n",
    "        for j in range(n-1):\n",
    "            print(a[i][j],end=' ')\n",
    "        print(a[i][n-1])\n",
    "\n",
    "i = 0\n",
    "j = n // 2\n",
    "a[i][j] = 1\n",
    "k = 1\n",
    "p = 0\n",
    "q = 0\n",
    "while k < n*n:\n",
    "    k += 1\n",
    "    if i == 0 and j != n-1:\n",
    "        [p, q] = [n-1,j+1]\n",
    "    elif i != 0 and j == n-1:\n",
    "        [p, q] = [i - 1,0]\n",
    "    elif i == 0 and j == n-1:\n",
    "        [p, q] = [i+1,j]\n",
    "    else:\n",
    "        if  not a[i-1][j+1]:\n",
    "            [p,q] = [i-1, j+1]\n",
    "        else :\n",
    "            [p,q] = [i+1,j]\n",
    "    a[p][q] = k\n",
    "    i = p \n",
    "    j = q\n",
    "\n",
    "output(a)\n"
   ]
  },
  {
   "cell_type": "markdown",
   "metadata": {},
   "source": [
    "### P5730 【深基5.例10】显示屏"
   ]
  },
  {
   "cell_type": "code",
   "execution_count": 32,
   "metadata": {},
   "outputs": [
    {
     "name": "stdout",
     "output_type": "stream",
     "text": [
      "..X.XXX.XXXa\n",
      "..X...X...Xa\n",
      "..X.XXX.XXXa\n",
      "..X.X.....Xa\n",
      "..X.XXX.XXXa\n"
     ]
    }
   ],
   "source": [
    "a = (\"\"\"XXX...X.XXX.XXX.X.X.XXX.XXX.XXX.XXX.XXX\n",
    "X.X...X...X...X.X.X.X...X.....X.X.X.X.X\n",
    "X.X...X.XXX.XXX.XXX.XXX.XXX...X.XXX.XXX\n",
    "X.X...X.X.....X...X...X.X.X...X.X.X...X\n",
    "XXX...X.XXX.XXX...X.XXX.XXX...X.XXX.XXX\"\"\").splitlines()\n",
    "n = int(input().strip())\n",
    "x = input().strip()\n",
    "for k in range(len(a)):\n",
    "    for i in range(len(x)):\n",
    "        for j in range(3):\n",
    "            print(a[k][int(x[i])*4+j],end='')\n",
    "        print() if i==len(x)-1 else print('.',end='') \n",
    "\n"
   ]
  },
  {
   "cell_type": "markdown",
   "metadata": {},
   "source": [
    "### P2141 [NOIP2014 普及组] 珠心算测验"
   ]
  },
  {
   "cell_type": "code",
   "execution_count": 39,
   "metadata": {},
   "outputs": [
    {
     "name": "stdout",
     "output_type": "stream",
     "text": [
      "2\n"
     ]
    }
   ],
   "source": [
    "n = int(input().strip())\n",
    "L = list(map(int,input().strip().split(' ')))\n",
    "res = 0\n",
    "m = {}\n",
    "for i in range(n):\n",
    "    for j in range(i+1,n):\n",
    "        x = L[i]+L[j]\n",
    "        if x in L and x not in m:\n",
    "            res+=1\n",
    "            m[x] = 1\n",
    "print(res)"
   ]
  },
  {
   "cell_type": "markdown",
   "metadata": {},
   "source": [
    "### P1205 [USACO1.2] 方块转换 Transformations"
   ]
  },
  {
   "cell_type": "markdown",
   "metadata": {},
   "source": []
  },
  {
   "cell_type": "code",
   "execution_count": 40,
   "metadata": {},
   "outputs": [
    {
     "ename": "ValueError",
     "evalue": "Axes must be different.",
     "output_type": "error",
     "traceback": [
      "\u001b[1;31m---------------------------------------------------------------------------\u001b[0m",
      "\u001b[1;31mValueError\u001b[0m                                Traceback (most recent call last)",
      "\u001b[1;32md:\\myfile\\洛谷题单\\【入门4】数组.ipynb Cell 9\u001b[0m in \u001b[0;36m<cell line: 23>\u001b[1;34m()\u001b[0m\n\u001b[0;32m     <a href='vscode-notebook-cell:/d%3A/myfile/%E6%B4%9B%E8%B0%B7%E9%A2%98%E5%8D%95/%E3%80%90%E5%85%A5%E9%97%A84%E3%80%91%E6%95%B0%E7%BB%84.ipynb#X11sZmlsZQ%3D%3D?line=20'>21</a>\u001b[0m         \u001b[39mpass\u001b[39;00m\n\u001b[0;32m     <a href='vscode-notebook-cell:/d%3A/myfile/%E6%B4%9B%E8%B0%B7%E9%A2%98%E5%8D%95/%E3%80%90%E5%85%A5%E9%97%A84%E3%80%91%E6%95%B0%E7%BB%84.ipynb#X11sZmlsZQ%3D%3D?line=22'>23</a>\u001b[0m \u001b[39mfor\u001b[39;00m i \u001b[39min\u001b[39;00m \u001b[39mrange\u001b[39m(\u001b[39m1\u001b[39m,\u001b[39m2\u001b[39m):\n\u001b[1;32m---> <a href='vscode-notebook-cell:/d%3A/myfile/%E6%B4%9B%E8%B0%B7%E9%A2%98%E5%8D%95/%E3%80%90%E5%85%A5%E9%97%A84%E3%80%91%E6%95%B0%E7%BB%84.ipynb#X11sZmlsZQ%3D%3D?line=23'>24</a>\u001b[0m     \u001b[39mif\u001b[39;00m isEqual(a,transform(i)):\n\u001b[0;32m     <a href='vscode-notebook-cell:/d%3A/myfile/%E6%B4%9B%E8%B0%B7%E9%A2%98%E5%8D%95/%E3%80%90%E5%85%A5%E9%97%A84%E3%80%91%E6%95%B0%E7%BB%84.ipynb#X11sZmlsZQ%3D%3D?line=24'>25</a>\u001b[0m         \u001b[39mprint\u001b[39m(i)\n\u001b[0;32m     <a href='vscode-notebook-cell:/d%3A/myfile/%E6%B4%9B%E8%B0%B7%E9%A2%98%E5%8D%95/%E3%80%90%E5%85%A5%E9%97%A84%E3%80%91%E6%95%B0%E7%BB%84.ipynb#X11sZmlsZQ%3D%3D?line=25'>26</a>\u001b[0m         \u001b[39mbreak\u001b[39;00m\n",
      "\u001b[1;32md:\\myfile\\洛谷题单\\【入门4】数组.ipynb Cell 9\u001b[0m in \u001b[0;36mtransform\u001b[1;34m(type)\u001b[0m\n\u001b[0;32m     <a href='vscode-notebook-cell:/d%3A/myfile/%E6%B4%9B%E8%B0%B7%E9%A2%98%E5%8D%95/%E3%80%90%E5%85%A5%E9%97%A84%E3%80%91%E6%95%B0%E7%BB%84.ipynb#X11sZmlsZQ%3D%3D?line=12'>13</a>\u001b[0m \u001b[39mdef\u001b[39;00m \u001b[39mtransform\u001b[39m(\u001b[39mtype\u001b[39m):\n\u001b[0;32m     <a href='vscode-notebook-cell:/d%3A/myfile/%E6%B4%9B%E8%B0%B7%E9%A2%98%E5%8D%95/%E3%80%90%E5%85%A5%E9%97%A84%E3%80%91%E6%95%B0%E7%BB%84.ipynb#X11sZmlsZQ%3D%3D?line=13'>14</a>\u001b[0m     \u001b[39mif\u001b[39;00m \u001b[39mtype\u001b[39m \u001b[39m==\u001b[39m\u001b[39m1\u001b[39m :\n\u001b[1;32m---> <a href='vscode-notebook-cell:/d%3A/myfile/%E6%B4%9B%E8%B0%B7%E9%A2%98%E5%8D%95/%E3%80%90%E5%85%A5%E9%97%A84%E3%80%91%E6%95%B0%E7%BB%84.ipynb#X11sZmlsZQ%3D%3D?line=14'>15</a>\u001b[0m         \u001b[39mreturn\u001b[39;00m np\u001b[39m.\u001b[39;49mrot90(p)\n\u001b[0;32m     <a href='vscode-notebook-cell:/d%3A/myfile/%E6%B4%9B%E8%B0%B7%E9%A2%98%E5%8D%95/%E3%80%90%E5%85%A5%E9%97%A84%E3%80%91%E6%95%B0%E7%BB%84.ipynb#X11sZmlsZQ%3D%3D?line=15'>16</a>\u001b[0m     \u001b[39melif\u001b[39;00m \u001b[39mtype\u001b[39m\u001b[39m==\u001b[39m\u001b[39m2\u001b[39m:\n\u001b[0;32m     <a href='vscode-notebook-cell:/d%3A/myfile/%E6%B4%9B%E8%B0%B7%E9%A2%98%E5%8D%95/%E3%80%90%E5%85%A5%E9%97%A84%E3%80%91%E6%95%B0%E7%BB%84.ipynb#X11sZmlsZQ%3D%3D?line=16'>17</a>\u001b[0m         \u001b[39mpass\u001b[39;00m\n",
      "File \u001b[1;32m<__array_function__ internals>:5\u001b[0m, in \u001b[0;36mrot90\u001b[1;34m(*args, **kwargs)\u001b[0m\n",
      "File \u001b[1;32md:\\apps\\anaconda3\\lib\\site-packages\\numpy\\lib\\function_base.py:121\u001b[0m, in \u001b[0;36mrot90\u001b[1;34m(m, k, axes)\u001b[0m\n\u001b[0;32m    118\u001b[0m m \u001b[39m=\u001b[39m asanyarray(m)\n\u001b[0;32m    120\u001b[0m \u001b[39mif\u001b[39;00m axes[\u001b[39m0\u001b[39m] \u001b[39m==\u001b[39m axes[\u001b[39m1\u001b[39m] \u001b[39mor\u001b[39;00m absolute(axes[\u001b[39m0\u001b[39m] \u001b[39m-\u001b[39m axes[\u001b[39m1\u001b[39m]) \u001b[39m==\u001b[39m m\u001b[39m.\u001b[39mndim:\n\u001b[1;32m--> 121\u001b[0m     \u001b[39mraise\u001b[39;00m \u001b[39mValueError\u001b[39;00m(\u001b[39m\"\u001b[39m\u001b[39mAxes must be different.\u001b[39m\u001b[39m\"\u001b[39m)\n\u001b[0;32m    123\u001b[0m \u001b[39mif\u001b[39;00m (axes[\u001b[39m0\u001b[39m] \u001b[39m>\u001b[39m\u001b[39m=\u001b[39m m\u001b[39m.\u001b[39mndim \u001b[39mor\u001b[39;00m axes[\u001b[39m0\u001b[39m] \u001b[39m<\u001b[39m \u001b[39m-\u001b[39mm\u001b[39m.\u001b[39mndim\n\u001b[0;32m    124\u001b[0m     \u001b[39mor\u001b[39;00m axes[\u001b[39m1\u001b[39m] \u001b[39m>\u001b[39m\u001b[39m=\u001b[39m m\u001b[39m.\u001b[39mndim \u001b[39mor\u001b[39;00m axes[\u001b[39m1\u001b[39m] \u001b[39m<\u001b[39m \u001b[39m-\u001b[39mm\u001b[39m.\u001b[39mndim):\n\u001b[0;32m    125\u001b[0m     \u001b[39mraise\u001b[39;00m \u001b[39mValueError\u001b[39;00m(\u001b[39m\"\u001b[39m\u001b[39mAxes=\u001b[39m\u001b[39m{}\u001b[39;00m\u001b[39m out of range for array of ndim=\u001b[39m\u001b[39m{}\u001b[39;00m\u001b[39m.\u001b[39m\u001b[39m\"\u001b[39m\n\u001b[0;32m    126\u001b[0m         \u001b[39m.\u001b[39mformat(axes, m\u001b[39m.\u001b[39mndim))\n",
      "\u001b[1;31mValueError\u001b[0m: Axes must be different."
     ]
    }
   ],
   "source": [
    "n = int(input().strip())\n",
    "p = [list(input().strip()) for i in range(n)]\n",
    "q = [list(input().strip()) for i in range(n)]\n",
    "\n",
    "def isEqual(a,b):\n",
    "    for i in range(len(a)):\n",
    "        if a[i] != b[i]:\n",
    "            return False\n",
    "    return True\n",
    "\n",
    "def transform(type):\n",
    "    if type ==1 :\n",
    "        return np.rot90(p)\n",
    "    elif type==2:\n",
    "        pass\n",
    "    elif type==3:\n",
    "        pass\n",
    "    else:\n",
    "        pass\n",
    "\n",
    "for i in range(1,2):\n",
    "    if isEqual(a,transform(i)):\n",
    "        print(i)\n",
    "        break\n"
   ]
  }
 ],
 "metadata": {
  "kernelspec": {
   "display_name": "Python 3.9.12 ('base')",
   "language": "python",
   "name": "python3"
  },
  "language_info": {
   "codemirror_mode": {
    "name": "ipython",
    "version": 3
   },
   "file_extension": ".py",
   "mimetype": "text/x-python",
   "name": "python",
   "nbconvert_exporter": "python",
   "pygments_lexer": "ipython3",
   "version": "3.9.12"
  },
  "orig_nbformat": 4,
  "vscode": {
   "interpreter": {
    "hash": "8b820dafb18f42d6e5f840dc2f0c20b46468de59ce39267dd760d8325dfbd3ca"
   }
  }
 },
 "nbformat": 4,
 "nbformat_minor": 2
}
