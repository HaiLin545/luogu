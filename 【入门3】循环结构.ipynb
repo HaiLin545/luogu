{
 "cells": [
  {
   "cell_type": "markdown",
   "metadata": {},
   "source": [
    "### P5718 【深基4.例2】找最小值"
   ]
  },
  {
   "cell_type": "code",
   "execution_count": 1,
   "metadata": {},
   "outputs": [
    {
     "name": "stdout",
     "output_type": "stream",
     "text": [
      "0\n"
     ]
    }
   ],
   "source": [
    "n = int(input())\n",
    "x = sorted(list(map(int,input().split(' '))))\n",
    "print(x[0])"
   ]
  },
  {
   "cell_type": "markdown",
   "metadata": {},
   "source": [
    "### P5719 【深基4.例3】分类平均"
   ]
  },
  {
   "cell_type": "code",
   "execution_count": 3,
   "metadata": {},
   "outputs": [
    {
     "name": "stdout",
     "output_type": "stream",
     "text": [
      "56.0 50.1\n"
     ]
    }
   ],
   "source": [
    "[n,k] = list(map(int,input().split(' ')))\n",
    "s1 = 0\n",
    "s2 = 0\n",
    "a = 0\n",
    "b = 0\n",
    "for i in range(1,n+1):\n",
    "    if i%k ==0 :\n",
    "        a+=1\n",
    "        s1+=i\n",
    "    else :\n",
    "        b+=1\n",
    "        s2+=i\n",
    "\n",
    "print(f'{(s1/a):.1f} {(s2/b):.1f}')"
   ]
  },
  {
   "cell_type": "markdown",
   "metadata": {},
   "source": [
    "### P5720 【深基4.例4】一尺之棰"
   ]
  },
  {
   "cell_type": "code",
   "execution_count": 4,
   "metadata": {},
   "outputs": [
    {
     "name": "stdout",
     "output_type": "stream",
     "text": [
      "6\n"
     ]
    }
   ],
   "source": [
    "n = int(input())\n",
    "cnt = 1\n",
    "while n>1:\n",
    "    n //=2\n",
    "    cnt+=1\n",
    "print(cnt)"
   ]
  },
  {
   "cell_type": "markdown",
   "metadata": {},
   "source": [
    "### P5721 【深基4.例6】数字直角三角形"
   ]
  },
  {
   "cell_type": "code",
   "execution_count": 9,
   "metadata": {},
   "outputs": [
    {
     "name": "stdout",
     "output_type": "stream",
     "text": [
      "0102030405\n",
      "06070809\n",
      "101112\n",
      "1314\n",
      "15\n"
     ]
    }
   ],
   "source": [
    "n = int(input())\n",
    "x = 1\n",
    "for i in range(n):\n",
    "    for j in range(n-i):\n",
    "        print(f'{x:0>2}',end='')\n",
    "        x+=1\n",
    "    print()"
   ]
  },
  {
   "cell_type": "markdown",
   "metadata": {},
   "source": [
    "### P1009 [NOIP1998 普及组] 阶乘之和"
   ]
  },
  {
   "cell_type": "code",
   "execution_count": 13,
   "metadata": {},
   "outputs": [
    {
     "name": "stdout",
     "output_type": "stream",
     "text": [
      "9\n"
     ]
    }
   ],
   "source": [
    "n= int(input())\n",
    "m = 1\n",
    "r = 0\n",
    "for i in range(1,n+1):\n",
    "    m*=i\n",
    "    r+=m\n",
    "print(r)"
   ]
  },
  {
   "cell_type": "markdown",
   "metadata": {},
   "source": [
    "### P5723 【深基4.例13】质数口袋"
   ]
  },
  {
   "cell_type": "code",
   "execution_count": 11,
   "metadata": {},
   "outputs": [
    {
     "name": "stdout",
     "output_type": "stream",
     "text": [
      "2\n",
      "3\n",
      "5\n",
      "7\n",
      "11\n",
      "13\n",
      "17\n",
      "19\n",
      "23\n",
      "9\n"
     ]
    }
   ],
   "source": [
    "n = int(1e5)\n",
    "prime = [0]*n\n",
    "\n",
    "# 筛质数\n",
    "prime[1] = 1\n",
    "prime[2] = 0\n",
    "for i in range(2,n):\n",
    "    q = i\n",
    "    while q+i < n:\n",
    "        q+=i\n",
    "        prime[q] = 1\n",
    "\n",
    "s = int(input())\n",
    "c = 0 \n",
    "s2 = 0\n",
    "for i in range(2,n):\n",
    "    if prime[i]:\n",
    "        continue\n",
    "    if s2+i<=s:\n",
    "        s2+=i\n",
    "        print(i)\n",
    "        c+=1\n",
    "print(c)        "
   ]
  },
  {
   "cell_type": "markdown",
   "metadata": {},
   "source": []
  }
 ],
 "metadata": {
  "kernelspec": {
   "display_name": "Python 3.9.12 ('base')",
   "language": "python",
   "name": "python3"
  },
  "language_info": {
   "codemirror_mode": {
    "name": "ipython",
    "version": 3
   },
   "file_extension": ".py",
   "mimetype": "text/x-python",
   "name": "python",
   "nbconvert_exporter": "python",
   "pygments_lexer": "ipython3",
   "version": "3.9.12"
  },
  "orig_nbformat": 4,
  "vscode": {
   "interpreter": {
    "hash": "8b820dafb18f42d6e5f840dc2f0c20b46468de59ce39267dd760d8325dfbd3ca"
   }
  }
 },
 "nbformat": 4,
 "nbformat_minor": 2
}
